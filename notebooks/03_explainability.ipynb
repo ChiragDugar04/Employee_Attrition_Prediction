{
 "cells": [
  {
   "cell_type": "code",
   "execution_count": null,
   "id": "3c7dbec4",
   "metadata": {},
   "outputs": [],
   "source": [
    "import shap\n",
    "import joblib\n",
    "import pandas as pd\n",
    "from src.data.preprocess import load_data, split_features_target\n",
    "\n",
    "# Load data + model\n",
    "df = load_data(\"../data/raw/WA_Fn-UseC_-HR-Employee-Attrition.csv\")\n",
    "X, y = split_features_target(df)\n",
    "\n",
    "model = joblib.load(\"../models/XGBoost_best.joblib\")\n",
    "\n",
    "# SHAP Explainer\n",
    "explainer = shap.Explainer(model.named_steps[\"clf\"], model.named_steps[\"preproc\"].transform(X))\n",
    "shap_values = explainer(model.named_steps[\"preproc\"].transform(X))\n",
    "\n",
    "# Global importance\n",
    "shap.summary_plot(shap_values, X)\n",
    "\n",
    "# Local explanation for a single employee\n",
    "shap.plots.waterfall(shap_values[0])\n"
   ]
  },
  {
   "cell_type": "code",
   "execution_count": null,
   "id": "ad9d3113",
   "metadata": {},
   "outputs": [],
   "source": []
  }
 ],
 "metadata": {
  "kernelspec": {
   "display_name": ".venv",
   "language": "python",
   "name": "python3"
  },
  "language_info": {
   "codemirror_mode": {
    "name": "ipython",
    "version": 3
   },
   "file_extension": ".py",
   "mimetype": "text/x-python",
   "name": "python",
   "nbconvert_exporter": "python",
   "pygments_lexer": "ipython3",
   "version": "3.13.6"
  }
 },
 "nbformat": 4,
 "nbformat_minor": 5
}
